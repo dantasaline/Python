{
  "nbformat": 4,
  "nbformat_minor": 0,
  "metadata": {
    "colab": {
      "provenance": [],
      "include_colab_link": true
    },
    "kernelspec": {
      "name": "python3",
      "display_name": "Python 3"
    },
    "language_info": {
      "name": "python"
    }
  },
  "cells": [
    {
      "cell_type": "markdown",
      "metadata": {
        "id": "view-in-github",
        "colab_type": "text"
      },
      "source": [
        "<a href=\"https://colab.research.google.com/github/dantasaline/Python/blob/main/2_ExemploAnalisedasInscricoes.ipynb\" target=\"_parent\"><img src=\"https://colab.research.google.com/assets/colab-badge.svg\" alt=\"Open In Colab\"/></a>"
      ]
    },
    {
      "cell_type": "markdown",
      "metadata": {
        "id": "ZSzy8ouLxonn"
      },
      "source": [
        "# Análise de Dados Simples - Inscrições do Curso"
      ]
    },
    {
      "cell_type": "markdown",
      "metadata": {
        "id": "OFfO8EEtxbW7"
      },
      "source": [
        "### Após a Aula introdutória vamos ver como colher algumas informações Simples Usando Python"
      ]
    },
    {
      "cell_type": "code",
      "metadata": {
        "id": "ezwjLi32y6Ro"
      },
      "source": [
        "import pandas as pd #Biblioteca responsável para fazer a leitura e impressão de bases de dados"
      ],
      "execution_count": null,
      "outputs": []
    },
    {
      "cell_type": "markdown",
      "metadata": {
        "id": "wPeo6sh37hoo"
      },
      "source": [
        "### Veja neste link como armazenar uma planilha excel no Github para usar como base de dados no COLAB"
      ]
    },
    {
      "cell_type": "code",
      "metadata": {
        "id": "ld5_TWLAyLzC"
      },
      "source": [
        "url = 'https://github.com/profcintiapinho/laboratorio_ia/blob/main/respostasalunos.xlsx?raw=true' #pega o caminho do arquivo excel no github\n",
        "planilha = \"respostas\" #identifica a planilha que está os dados\n",
        "base = pd.read_excel(url,planilha) #pega o caminho e a planilha exata e armazena na variável"
      ],
      "execution_count": null,
      "outputs": []
    },
    {
      "cell_type": "code",
      "metadata": {
        "colab": {
          "base_uri": "https://localhost:8080/",
          "height": 423
        },
        "id": "KOzWZ0064PGX",
        "outputId": "d5c47a72-31fd-4cae-c0b2-1504031b9ba3"
      },
      "source": [
        "base"
      ],
      "execution_count": null,
      "outputs": [
        {
          "output_type": "execute_result",
          "data": {
            "text/plain": [
              "                                  Turma interesse computador  \\\n",
              "0       Novo Tec - Administração(Tarde)     Noite        Sim   \n",
              "1                 Contabilidade - Noite     Tarde        Sim   \n",
              "2                 Contabilidade - Noite     Tarde        Sim   \n",
              "3   Novo Tec - Recursos Humanos (Manhã)     Noite        Sim   \n",
              "4                 Contabilidade - Noite     Tarde        Sim   \n",
              "..                                  ...       ...        ...   \n",
              "56                    Logistica - Noite     Tarde        não   \n",
              "57                    Logistica - Noite     Tarde        não   \n",
              "58       Novo Tec - Informática (Manhã)     Tarde        Sim   \n",
              "59       Novo Tec - Informática (Manhã)     Noite        Sim   \n",
              "60       Novo Tec - Informática (Manhã)     Noite        Sim   \n",
              "\n",
              "                                            motivacao  \n",
              "0   Quero estar mais liga e aprender muito mais  s...  \n",
              "1   conseguir automatizar alguns processos no meu ...  \n",
              "2   Obter um pouco de conhecimento nessa área, a q...  \n",
              "3   Porque o python é uma linguagens de programaçã...  \n",
              "4                 quero aprimorar meus conhecimentos   \n",
              "..                                                ...  \n",
              "56  Ter um curso extracurricular pra melhorar meu ...  \n",
              "57  Ter um curso extracurricular pra melhorar meu ...  \n",
              "58  Busca por conhecimentos que possam agregar na ...  \n",
              "59  Ampliar meus conhecimentos na área de informática  \n",
              "60  Adquirir mais conhecimentos na área. E ter um ...  \n",
              "\n",
              "[61 rows x 4 columns]"
            ],
            "text/html": [
              "\n",
              "  <div id=\"df-8c4e3006-021f-4e1e-b892-e3b0c544b0b4\" class=\"colab-df-container\">\n",
              "    <div>\n",
              "<style scoped>\n",
              "    .dataframe tbody tr th:only-of-type {\n",
              "        vertical-align: middle;\n",
              "    }\n",
              "\n",
              "    .dataframe tbody tr th {\n",
              "        vertical-align: top;\n",
              "    }\n",
              "\n",
              "    .dataframe thead th {\n",
              "        text-align: right;\n",
              "    }\n",
              "</style>\n",
              "<table border=\"1\" class=\"dataframe\">\n",
              "  <thead>\n",
              "    <tr style=\"text-align: right;\">\n",
              "      <th></th>\n",
              "      <th>Turma</th>\n",
              "      <th>interesse</th>\n",
              "      <th>computador</th>\n",
              "      <th>motivacao</th>\n",
              "    </tr>\n",
              "  </thead>\n",
              "  <tbody>\n",
              "    <tr>\n",
              "      <th>0</th>\n",
              "      <td>Novo Tec - Administração(Tarde)</td>\n",
              "      <td>Noite</td>\n",
              "      <td>Sim</td>\n",
              "      <td>Quero estar mais liga e aprender muito mais  s...</td>\n",
              "    </tr>\n",
              "    <tr>\n",
              "      <th>1</th>\n",
              "      <td>Contabilidade - Noite</td>\n",
              "      <td>Tarde</td>\n",
              "      <td>Sim</td>\n",
              "      <td>conseguir automatizar alguns processos no meu ...</td>\n",
              "    </tr>\n",
              "    <tr>\n",
              "      <th>2</th>\n",
              "      <td>Contabilidade - Noite</td>\n",
              "      <td>Tarde</td>\n",
              "      <td>Sim</td>\n",
              "      <td>Obter um pouco de conhecimento nessa área, a q...</td>\n",
              "    </tr>\n",
              "    <tr>\n",
              "      <th>3</th>\n",
              "      <td>Novo Tec - Recursos Humanos (Manhã)</td>\n",
              "      <td>Noite</td>\n",
              "      <td>Sim</td>\n",
              "      <td>Porque o python é uma linguagens de programaçã...</td>\n",
              "    </tr>\n",
              "    <tr>\n",
              "      <th>4</th>\n",
              "      <td>Contabilidade - Noite</td>\n",
              "      <td>Tarde</td>\n",
              "      <td>Sim</td>\n",
              "      <td>quero aprimorar meus conhecimentos</td>\n",
              "    </tr>\n",
              "    <tr>\n",
              "      <th>...</th>\n",
              "      <td>...</td>\n",
              "      <td>...</td>\n",
              "      <td>...</td>\n",
              "      <td>...</td>\n",
              "    </tr>\n",
              "    <tr>\n",
              "      <th>56</th>\n",
              "      <td>Logistica - Noite</td>\n",
              "      <td>Tarde</td>\n",
              "      <td>não</td>\n",
              "      <td>Ter um curso extracurricular pra melhorar meu ...</td>\n",
              "    </tr>\n",
              "    <tr>\n",
              "      <th>57</th>\n",
              "      <td>Logistica - Noite</td>\n",
              "      <td>Tarde</td>\n",
              "      <td>não</td>\n",
              "      <td>Ter um curso extracurricular pra melhorar meu ...</td>\n",
              "    </tr>\n",
              "    <tr>\n",
              "      <th>58</th>\n",
              "      <td>Novo Tec - Informática (Manhã)</td>\n",
              "      <td>Tarde</td>\n",
              "      <td>Sim</td>\n",
              "      <td>Busca por conhecimentos que possam agregar na ...</td>\n",
              "    </tr>\n",
              "    <tr>\n",
              "      <th>59</th>\n",
              "      <td>Novo Tec - Informática (Manhã)</td>\n",
              "      <td>Noite</td>\n",
              "      <td>Sim</td>\n",
              "      <td>Ampliar meus conhecimentos na área de informática</td>\n",
              "    </tr>\n",
              "    <tr>\n",
              "      <th>60</th>\n",
              "      <td>Novo Tec - Informática (Manhã)</td>\n",
              "      <td>Noite</td>\n",
              "      <td>Sim</td>\n",
              "      <td>Adquirir mais conhecimentos na área. E ter um ...</td>\n",
              "    </tr>\n",
              "  </tbody>\n",
              "</table>\n",
              "<p>61 rows × 4 columns</p>\n",
              "</div>\n",
              "    <div class=\"colab-df-buttons\">\n",
              "\n",
              "  <div class=\"colab-df-container\">\n",
              "    <button class=\"colab-df-convert\" onclick=\"convertToInteractive('df-8c4e3006-021f-4e1e-b892-e3b0c544b0b4')\"\n",
              "            title=\"Convert this dataframe to an interactive table.\"\n",
              "            style=\"display:none;\">\n",
              "\n",
              "  <svg xmlns=\"http://www.w3.org/2000/svg\" height=\"24px\" viewBox=\"0 -960 960 960\">\n",
              "    <path d=\"M120-120v-720h720v720H120Zm60-500h600v-160H180v160Zm220 220h160v-160H400v160Zm0 220h160v-160H400v160ZM180-400h160v-160H180v160Zm440 0h160v-160H620v160ZM180-180h160v-160H180v160Zm440 0h160v-160H620v160Z\"/>\n",
              "  </svg>\n",
              "    </button>\n",
              "\n",
              "  <style>\n",
              "    .colab-df-container {\n",
              "      display:flex;\n",
              "      gap: 12px;\n",
              "    }\n",
              "\n",
              "    .colab-df-convert {\n",
              "      background-color: #E8F0FE;\n",
              "      border: none;\n",
              "      border-radius: 50%;\n",
              "      cursor: pointer;\n",
              "      display: none;\n",
              "      fill: #1967D2;\n",
              "      height: 32px;\n",
              "      padding: 0 0 0 0;\n",
              "      width: 32px;\n",
              "    }\n",
              "\n",
              "    .colab-df-convert:hover {\n",
              "      background-color: #E2EBFA;\n",
              "      box-shadow: 0px 1px 2px rgba(60, 64, 67, 0.3), 0px 1px 3px 1px rgba(60, 64, 67, 0.15);\n",
              "      fill: #174EA6;\n",
              "    }\n",
              "\n",
              "    .colab-df-buttons div {\n",
              "      margin-bottom: 4px;\n",
              "    }\n",
              "\n",
              "    [theme=dark] .colab-df-convert {\n",
              "      background-color: #3B4455;\n",
              "      fill: #D2E3FC;\n",
              "    }\n",
              "\n",
              "    [theme=dark] .colab-df-convert:hover {\n",
              "      background-color: #434B5C;\n",
              "      box-shadow: 0px 1px 3px 1px rgba(0, 0, 0, 0.15);\n",
              "      filter: drop-shadow(0px 1px 2px rgba(0, 0, 0, 0.3));\n",
              "      fill: #FFFFFF;\n",
              "    }\n",
              "  </style>\n",
              "\n",
              "    <script>\n",
              "      const buttonEl =\n",
              "        document.querySelector('#df-8c4e3006-021f-4e1e-b892-e3b0c544b0b4 button.colab-df-convert');\n",
              "      buttonEl.style.display =\n",
              "        google.colab.kernel.accessAllowed ? 'block' : 'none';\n",
              "\n",
              "      async function convertToInteractive(key) {\n",
              "        const element = document.querySelector('#df-8c4e3006-021f-4e1e-b892-e3b0c544b0b4');\n",
              "        const dataTable =\n",
              "          await google.colab.kernel.invokeFunction('convertToInteractive',\n",
              "                                                    [key], {});\n",
              "        if (!dataTable) return;\n",
              "\n",
              "        const docLinkHtml = 'Like what you see? Visit the ' +\n",
              "          '<a target=\"_blank\" href=https://colab.research.google.com/notebooks/data_table.ipynb>data table notebook</a>'\n",
              "          + ' to learn more about interactive tables.';\n",
              "        element.innerHTML = '';\n",
              "        dataTable['output_type'] = 'display_data';\n",
              "        await google.colab.output.renderOutput(dataTable, element);\n",
              "        const docLink = document.createElement('div');\n",
              "        docLink.innerHTML = docLinkHtml;\n",
              "        element.appendChild(docLink);\n",
              "      }\n",
              "    </script>\n",
              "  </div>\n",
              "\n",
              "\n",
              "<div id=\"df-67aee5b8-bbe1-47e4-8a72-b2ae50c70348\">\n",
              "  <button class=\"colab-df-quickchart\" onclick=\"quickchart('df-67aee5b8-bbe1-47e4-8a72-b2ae50c70348')\"\n",
              "            title=\"Suggest charts.\"\n",
              "            style=\"display:none;\">\n",
              "\n",
              "<svg xmlns=\"http://www.w3.org/2000/svg\" height=\"24px\"viewBox=\"0 0 24 24\"\n",
              "     width=\"24px\">\n",
              "    <g>\n",
              "        <path d=\"M19 3H5c-1.1 0-2 .9-2 2v14c0 1.1.9 2 2 2h14c1.1 0 2-.9 2-2V5c0-1.1-.9-2-2-2zM9 17H7v-7h2v7zm4 0h-2V7h2v10zm4 0h-2v-4h2v4z\"/>\n",
              "    </g>\n",
              "</svg>\n",
              "  </button>\n",
              "\n",
              "<style>\n",
              "  .colab-df-quickchart {\n",
              "      --bg-color: #E8F0FE;\n",
              "      --fill-color: #1967D2;\n",
              "      --hover-bg-color: #E2EBFA;\n",
              "      --hover-fill-color: #174EA6;\n",
              "      --disabled-fill-color: #AAA;\n",
              "      --disabled-bg-color: #DDD;\n",
              "  }\n",
              "\n",
              "  [theme=dark] .colab-df-quickchart {\n",
              "      --bg-color: #3B4455;\n",
              "      --fill-color: #D2E3FC;\n",
              "      --hover-bg-color: #434B5C;\n",
              "      --hover-fill-color: #FFFFFF;\n",
              "      --disabled-bg-color: #3B4455;\n",
              "      --disabled-fill-color: #666;\n",
              "  }\n",
              "\n",
              "  .colab-df-quickchart {\n",
              "    background-color: var(--bg-color);\n",
              "    border: none;\n",
              "    border-radius: 50%;\n",
              "    cursor: pointer;\n",
              "    display: none;\n",
              "    fill: var(--fill-color);\n",
              "    height: 32px;\n",
              "    padding: 0;\n",
              "    width: 32px;\n",
              "  }\n",
              "\n",
              "  .colab-df-quickchart:hover {\n",
              "    background-color: var(--hover-bg-color);\n",
              "    box-shadow: 0 1px 2px rgba(60, 64, 67, 0.3), 0 1px 3px 1px rgba(60, 64, 67, 0.15);\n",
              "    fill: var(--button-hover-fill-color);\n",
              "  }\n",
              "\n",
              "  .colab-df-quickchart-complete:disabled,\n",
              "  .colab-df-quickchart-complete:disabled:hover {\n",
              "    background-color: var(--disabled-bg-color);\n",
              "    fill: var(--disabled-fill-color);\n",
              "    box-shadow: none;\n",
              "  }\n",
              "\n",
              "  .colab-df-spinner {\n",
              "    border: 2px solid var(--fill-color);\n",
              "    border-color: transparent;\n",
              "    border-bottom-color: var(--fill-color);\n",
              "    animation:\n",
              "      spin 1s steps(1) infinite;\n",
              "  }\n",
              "\n",
              "  @keyframes spin {\n",
              "    0% {\n",
              "      border-color: transparent;\n",
              "      border-bottom-color: var(--fill-color);\n",
              "      border-left-color: var(--fill-color);\n",
              "    }\n",
              "    20% {\n",
              "      border-color: transparent;\n",
              "      border-left-color: var(--fill-color);\n",
              "      border-top-color: var(--fill-color);\n",
              "    }\n",
              "    30% {\n",
              "      border-color: transparent;\n",
              "      border-left-color: var(--fill-color);\n",
              "      border-top-color: var(--fill-color);\n",
              "      border-right-color: var(--fill-color);\n",
              "    }\n",
              "    40% {\n",
              "      border-color: transparent;\n",
              "      border-right-color: var(--fill-color);\n",
              "      border-top-color: var(--fill-color);\n",
              "    }\n",
              "    60% {\n",
              "      border-color: transparent;\n",
              "      border-right-color: var(--fill-color);\n",
              "    }\n",
              "    80% {\n",
              "      border-color: transparent;\n",
              "      border-right-color: var(--fill-color);\n",
              "      border-bottom-color: var(--fill-color);\n",
              "    }\n",
              "    90% {\n",
              "      border-color: transparent;\n",
              "      border-bottom-color: var(--fill-color);\n",
              "    }\n",
              "  }\n",
              "</style>\n",
              "\n",
              "  <script>\n",
              "    async function quickchart(key) {\n",
              "      const quickchartButtonEl =\n",
              "        document.querySelector('#' + key + ' button');\n",
              "      quickchartButtonEl.disabled = true;  // To prevent multiple clicks.\n",
              "      quickchartButtonEl.classList.add('colab-df-spinner');\n",
              "      try {\n",
              "        const charts = await google.colab.kernel.invokeFunction(\n",
              "            'suggestCharts', [key], {});\n",
              "      } catch (error) {\n",
              "        console.error('Error during call to suggestCharts:', error);\n",
              "      }\n",
              "      quickchartButtonEl.classList.remove('colab-df-spinner');\n",
              "      quickchartButtonEl.classList.add('colab-df-quickchart-complete');\n",
              "    }\n",
              "    (() => {\n",
              "      let quickchartButtonEl =\n",
              "        document.querySelector('#df-67aee5b8-bbe1-47e4-8a72-b2ae50c70348 button');\n",
              "      quickchartButtonEl.style.display =\n",
              "        google.colab.kernel.accessAllowed ? 'block' : 'none';\n",
              "    })();\n",
              "  </script>\n",
              "</div>\n",
              "    </div>\n",
              "  </div>\n"
            ]
          },
          "metadata": {},
          "execution_count": 3
        }
      ]
    },
    {
      "cell_type": "code",
      "metadata": {
        "id": "WGZ5M8Go72aS"
      },
      "source": [
        "import matplotlib.pyplot as plt #biblioteca para gerar gráficos\n",
        "import seaborn as sns #biblioteca para visualizar gráficos"
      ],
      "execution_count": null,
      "outputs": []
    },
    {
      "cell_type": "code",
      "metadata": {
        "colab": {
          "base_uri": "https://localhost:8080/",
          "height": 421
        },
        "id": "oZeU5mB58CKI",
        "outputId": "7604742f-08e6-4bb4-ebb3-4a290ff9287d"
      },
      "source": [
        "plt.subplots(figsize=(30, 10))\n",
        "sns.countplot(x=base[\"Turma\"]);"
      ],
      "execution_count": null,
      "outputs": [
        {
          "output_type": "display_data",
          "data": {
            "text/plain": [
              "<Figure size 3000x1000 with 1 Axes>"
            ],
            "image/png": "[encoded data removed]"
          },
          "metadata": {}
        }
      ]
    },
    {
      "cell_type": "code",
      "metadata": {
        "colab": {
          "base_uri": "https://localhost:8080/",
          "height": 489
        },
        "id": "1Eo_SdnABzp1",
        "outputId": "dafb326a-5d40-4f1a-d8f3-ac199edc9f90"
      },
      "source": [
        "import seaborn as sns\n",
        "import matplotlib.pyplot as plt\n",
        "sns.countplot(x=base['computador'], color='#00BFFF');\n",
        "plt.title('Alunos possuem computadores?')"
      ],
      "execution_count": null,
      "outputs": [
        {
          "output_type": "execute_result",
          "data": {
            "text/plain": [
              "Text(0.5, 1.0, 'Alunos possuem computadores?')"
            ]
          },
          "metadata": {},
          "execution_count": 6
        },
        {
          "output_type": "display_data",
          "data": {
            "text/plain": [
              "<Figure size 640x480 with 1 Axes>"
            ],
            "image/png": "[encoded data removed]"
          },
          "metadata": {}
        }
      ]
    },
    {
      "cell_type": "code",
      "metadata": {
        "colab": {
          "base_uri": "https://localhost:8080/"
        },
        "id": "2y8NU1JjJQ2s",
        "outputId": "fce4b207-9007-4bc1-c443-fcc91495ef4e"
      },
      "source": [
        "base['interesse'].value_counts()"
      ],
      "execution_count": null,
      "outputs": [
        {
          "output_type": "execute_result",
          "data": {
            "text/plain": [
              "Tarde    31\n",
              "Noite    30\n",
              "Name: interesse, dtype: int64"
            ]
          },
          "metadata": {},
          "execution_count": 7
        }
      ]
    },
    {
      "cell_type": "code",
      "metadata": {
        "id": "q5DiPvBpJlL-"
      },
      "source": [
        "tarde = base.interesse.value_counts()['Tarde']\n",
        "noite = base.interesse.value_counts()['Noite']"
      ],
      "execution_count": null,
      "outputs": []
    },
    {
      "cell_type": "code",
      "metadata": {
        "id": "TB9Bmov6L1hg"
      },
      "source": [
        "x = [\"Tarde\", \"Noite\"]\n",
        "y = [tarde, noite]"
      ],
      "execution_count": null,
      "outputs": []
    },
    {
      "cell_type": "code",
      "metadata": {
        "colab": {
          "base_uri": "https://localhost:8080/",
          "height": 452
        },
        "id": "A3wi-XthMExJ",
        "outputId": "23a67b97-a29a-41f1-f47e-53d708435a53"
      },
      "source": [
        "plt.barh(x, y)\n",
        "plt.yticks(rotation=45)\n",
        "plt.title('Período do Curso')\n",
        "plt.show()"
      ],
      "execution_count": null,
      "outputs": [
        {
          "output_type": "display_data",
          "data": {
            "text/plain": [
              "<Figure size 640x480 with 1 Axes>"
            ],
            "image/png": "[encoded data removed]"
          },
          "metadata": {}
        }
      ]
    },
    {
      "cell_type": "code",
      "metadata": {
        "colab": {
          "base_uri": "https://localhost:8080/",
          "height": 406
        },
        "id": "0zrHmxhoMqCd",
        "outputId": "a9b049ae-d714-4e82-dfbd-850470f8fe75"
      },
      "source": [
        "cores = ['#4169E1','#00BFFF','#00008B']\n",
        "plt.pie(y, labels=x, autopct='%1.1f%%', colors = cores)\n",
        "plt.show()"
      ],
      "execution_count": null,
      "outputs": [
        {
          "output_type": "display_data",
          "data": {
            "text/plain": [
              "<Figure size 640x480 with 1 Axes>"
            ],
            "image/png": "[encoded data removed]"
          },
          "metadata": {}
        }
      ]
    },
    {
      "cell_type": "code",
      "metadata": {
        "id": "QR1yqSXGRONH"
      },
      "source": [
        "import spacy\n",
        "import re"
      ],
      "execution_count": null,
      "outputs": []
    },
    {
      "cell_type": "code",
      "metadata": {
        "colab": {
          "base_uri": "https://localhost:8080/"
        },
        "id": "DfnwTrsDRen1",
        "outputId": "dbbcb857-6cdc-4b63-bc9e-86862be0f597"
      },
      "source": [
        "!python -m spacy download pt_core_news_sm"
      ],
      "execution_count": null,
      "outputs": [
        {
          "output_type": "stream",
          "name": "stdout",
          "text": [
            "2023-09-01 10:59:13.843818: W tensorflow/compiler/tf2tensorrt/utils/py_utils.cc:38] TF-TRT Warning: Could not find TensorRT\n",
            "Collecting pt-core-news-sm==3.6.0\n",
            "  Downloading https://github.com/explosion/spacy-models/releases/download/pt_core_news_sm-3.6.0/pt_core_news_sm-3.6.0-py3-none-any.whl (13.0 MB)\n",
            "\u001b[2K     \u001b[90m━━━━━━━━━━━━━━━━━━━━━━━━━━━━━━━━━━━━━━━\u001b[0m \u001b[32m13.0/13.0 MB\u001b[0m \u001b[31m107.9 MB/s\u001b[0m eta \u001b[36m0:00:00\u001b[0m\n",
            "\u001b[?25hRequirement already satisfied: spacy<3.7.0,>=3.6.0 in /usr/local/lib/python3.10/dist-packages (from pt-core-news-sm==3.6.0) (3.6.1)\n",
            "Requirement already satisfied: spacy-legacy<3.1.0,>=3.0.11 in /usr/local/lib/python3.10/dist-packages (from spacy<3.7.0,>=3.6.0->pt-core-news-sm==3.6.0) (3.0.12)\n",
            "Requirement already satisfied: spacy-loggers<2.0.0,>=1.0.0 in /usr/local/lib/python3.10/dist-packages (from spacy<3.7.0,>=3.6.0->pt-core-news-sm==3.6.0) (1.0.4)\n",
            "Requirement already satisfied: murmurhash<1.1.0,>=0.28.0 in /usr/local/lib/python3.10/dist-packages (from spacy<3.7.0,>=3.6.0->pt-core-news-sm==3.6.0) (1.0.9)\n",
            "Requirement already satisfied: cymem<2.1.0,>=2.0.2 in /usr/local/lib/python3.10/dist-packages (from spacy<3.7.0,>=3.6.0->pt-core-news-sm==3.6.0) (2.0.7)\n",
            "Requirement already satisfied: preshed<3.1.0,>=3.0.2 in /usr/local/lib/python3.10/dist-packages (from spacy<3.7.0,>=3.6.0->pt-core-news-sm==3.6.0) (3.0.8)\n",
            "Requirement already satisfied: thinc<8.2.0,>=8.1.8 in /usr/local/lib/python3.10/dist-packages (from spacy<3.7.0,>=3.6.0->pt-core-news-sm==3.6.0) (8.1.12)\n",
            "Requirement already satisfied: wasabi<1.2.0,>=0.9.1 in /usr/local/lib/python3.10/dist-packages (from spacy<3.7.0,>=3.6.0->pt-core-news-sm==3.6.0) (1.1.2)\n",
            "Requirement already satisfied: srsly<3.0.0,>=2.4.3 in /usr/local/lib/python3.10/dist-packages (from spacy<3.7.0,>=3.6.0->pt-core-news-sm==3.6.0) (2.4.7)\n",
            "Requirement already satisfied: catalogue<2.1.0,>=2.0.6 in /usr/local/lib/python3.10/dist-packages (from spacy<3.7.0,>=3.6.0->pt-core-news-sm==3.6.0) (2.0.9)\n",
            "Requirement already satisfied: typer<0.10.0,>=0.3.0 in /usr/local/lib/python3.10/dist-packages (from spacy<3.7.0,>=3.6.0->pt-core-news-sm==3.6.0) (0.9.0)\n",
            "Requirement already satisfied: pathy>=0.10.0 in /usr/local/lib/python3.10/dist-packages (from spacy<3.7.0,>=3.6.0->pt-core-news-sm==3.6.0) (0.10.2)\n",
            "Requirement already satisfied: smart-open<7.0.0,>=5.2.1 in /usr/local/lib/python3.10/dist-packages (from spacy<3.7.0,>=3.6.0->pt-core-news-sm==3.6.0) (6.3.0)\n",
            "Requirement already satisfied: tqdm<5.0.0,>=4.38.0 in /usr/local/lib/python3.10/dist-packages (from spacy<3.7.0,>=3.6.0->pt-core-news-sm==3.6.0) (4.66.1)\n",
            "Requirement already satisfied: numpy>=1.15.0 in /usr/local/lib/python3.10/dist-packages (from spacy<3.7.0,>=3.6.0->pt-core-news-sm==3.6.0) (1.23.5)\n",
            "Requirement already satisfied: requests<3.0.0,>=2.13.0 in /usr/local/lib/python3.10/dist-packages (from spacy<3.7.0,>=3.6.0->pt-core-news-sm==3.6.0) (2.31.0)\n",
            "Requirement already satisfied: pydantic!=1.8,!=1.8.1,<3.0.0,>=1.7.4 in /usr/local/lib/python3.10/dist-packages (from spacy<3.7.0,>=3.6.0->pt-core-news-sm==3.6.0) (2.2.1)\n",
            "Requirement already satisfied: jinja2 in /usr/local/lib/python3.10/dist-packages (from spacy<3.7.0,>=3.6.0->pt-core-news-sm==3.6.0) (3.1.2)\n",
            "Requirement already satisfied: setuptools in /usr/local/lib/python3.10/dist-packages (from spacy<3.7.0,>=3.6.0->pt-core-news-sm==3.6.0) (67.7.2)\n",
            "Requirement already satisfied: packaging>=20.0 in /usr/local/lib/python3.10/dist-packages (from spacy<3.7.0,>=3.6.0->pt-core-news-sm==3.6.0) (23.1)\n",
            "Requirement already satisfied: langcodes<4.0.0,>=3.2.0 in /usr/local/lib/python3.10/dist-packages (from spacy<3.7.0,>=3.6.0->pt-core-news-sm==3.6.0) (3.3.0)\n",
            "Requirement already satisfied: annotated-types>=0.4.0 in /usr/local/lib/python3.10/dist-packages (from pydantic!=1.8,!=1.8.1,<3.0.0,>=1.7.4->spacy<3.7.0,>=3.6.0->pt-core-news-sm==3.6.0) (0.5.0)\n",
            "Requirement already satisfied: pydantic-core==2.6.1 in /usr/local/lib/python3.10/dist-packages (from pydantic!=1.8,!=1.8.1,<3.0.0,>=1.7.4->spacy<3.7.0,>=3.6.0->pt-core-news-sm==3.6.0) (2.6.1)\n",
            "Requirement already satisfied: typing-extensions>=4.6.1 in /usr/local/lib/python3.10/dist-packages (from pydantic!=1.8,!=1.8.1,<3.0.0,>=1.7.4->spacy<3.7.0,>=3.6.0->pt-core-news-sm==3.6.0) (4.7.1)\n",
            "Requirement already satisfied: charset-normalizer<4,>=2 in /usr/local/lib/python3.10/dist-packages (from requests<3.0.0,>=2.13.0->spacy<3.7.0,>=3.6.0->pt-core-news-sm==3.6.0) (3.2.0)\n",
            "Requirement already satisfied: idna<4,>=2.5 in /usr/local/lib/python3.10/dist-packages (from requests<3.0.0,>=2.13.0->spacy<3.7.0,>=3.6.0->pt-core-news-sm==3.6.0) (3.4)\n",
            "Requirement already satisfied: urllib3<3,>=1.21.1 in /usr/local/lib/python3.10/dist-packages (from requests<3.0.0,>=2.13.0->spacy<3.7.0,>=3.6.0->pt-core-news-sm==3.6.0) (2.0.4)\n",
            "Requirement already satisfied: certifi>=2017.4.17 in /usr/local/lib/python3.10/dist-packages (from requests<3.0.0,>=2.13.0->spacy<3.7.0,>=3.6.0->pt-core-news-sm==3.6.0) (2023.7.22)\n",
            "Requirement already satisfied: blis<0.8.0,>=0.7.8 in /usr/local/lib/python3.10/dist-packages (from thinc<8.2.0,>=8.1.8->spacy<3.7.0,>=3.6.0->pt-core-news-sm==3.6.0) (0.7.10)\n",
            "Requirement already satisfied: confection<1.0.0,>=0.0.1 in /usr/local/lib/python3.10/dist-packages (from thinc<8.2.0,>=8.1.8->spacy<3.7.0,>=3.6.0->pt-core-news-sm==3.6.0) (0.1.1)\n",
            "Requirement already satisfied: click<9.0.0,>=7.1.1 in /usr/local/lib/python3.10/dist-packages (from typer<0.10.0,>=0.3.0->spacy<3.7.0,>=3.6.0->pt-core-news-sm==3.6.0) (8.1.7)\n",
            "Requirement already satisfied: MarkupSafe>=2.0 in /usr/local/lib/python3.10/dist-packages (from jinja2->spacy<3.7.0,>=3.6.0->pt-core-news-sm==3.6.0) (2.1.3)\n",
            "\u001b[38;5;2m✔ Download and installation successful\u001b[0m\n",
            "You can now load the package via spacy.load('pt_core_news_sm')\n"
          ]
        }
      ]
    },
    {
      "cell_type": "code",
      "metadata": {
        "id": "F3EkS9hSRp3V"
      },
      "source": [
        "pln = spacy.load('pt_core_news_sm')"
      ],
      "execution_count": null,
      "outputs": []
    },
    {
      "cell_type": "markdown",
      "source": [
        "### O que são stop-words"
      ],
      "metadata": {
        "id": "4f38yuK3aqUs"
      }
    },
    {
      "cell_type": "markdown",
      "source": [
        "São palavras da línguagem ligam outras palavras"
      ],
      "metadata": {
        "id": "NMPFsUKDa6C0"
      }
    },
    {
      "cell_type": "code",
      "metadata": {
        "id": "bxWWxz_TRsDv"
      },
      "source": [
        "from spacy.lang.pt.stop_words import STOP_WORDS\n",
        "stop_words = STOP_WORDS"
      ],
      "execution_count": null,
      "outputs": []
    },
    {
      "cell_type": "code",
      "source": [
        "#Aqui conta a quantidade de palavras que tem dentrop do stop_words\n",
        "len(stop_words)"
      ],
      "metadata": {
        "colab": {
          "base_uri": "https://localhost:8080/"
        },
        "id": "f6MDbyMlaV9N",
        "outputId": "ba2a5547-f88e-404d-d811-a2d00f0e680a"
      },
      "execution_count": null,
      "outputs": [
        {
          "output_type": "execute_result",
          "data": {
            "text/plain": [
              "417"
            ]
          },
          "metadata": {},
          "execution_count": 35
        }
      ]
    },
    {
      "cell_type": "code",
      "source": [
        "#Código para adicionar uma palavra ao stop_words\n",
        "pln.Defaults.stop_words.add('obter')"
      ],
      "metadata": {
        "id": "XSn6xPi_mehy"
      },
      "execution_count": null,
      "outputs": []
    },
    {
      "cell_type": "code",
      "metadata": {
        "colab": {
          "base_uri": "https://localhost:8080/",
          "height": 35
        },
        "id": "3y5jUU3hR4jK",
        "outputId": "02f75874-eccc-4619-c26c-1e27f3ff2fd0"
      },
      "source": [
        "import string\n",
        "pontuacoes = string.punctuation\n",
        "pontuacoes"
      ],
      "execution_count": null,
      "outputs": [
        {
          "output_type": "execute_result",
          "data": {
            "text/plain": [
              "'!\"#$%&\\'()*+,-./:;<=>?@[\\\\]^_`{|}~'"
            ],
            "application/vnd.google.colaboratory.intrinsic+json": {
              "type": "string"
            }
          },
          "metadata": {},
          "execution_count": 28
        }
      ]
    },
    {
      "cell_type": "code",
      "metadata": {
        "id": "LRsBeJPZR6Vt"
      },
      "source": [
        "def preprocessamento(text):\n",
        "    result = []\n",
        "    pos_tag = ['ADJ', 'NOUN', 'VERB', 'PROPN'] # escolhendo apenas adjetivos, substantivos e verbos , 'VERB'\n",
        "    texto = re.sub(u'[^a-zA-Z0-9áéíóúÁÉÍÓÚâêîôÂÊÎÔãõÃÕçÇ: ]', '', text )\n",
        "    doc = pln(texto.lower()) # Transformando em minúsculo\n",
        "    for token in doc:\n",
        "        # 3\n",
        "        if(token.text in stop_words or token.text in pontuacoes):\n",
        "            continue\n",
        "        # 4\n",
        "        if(token.pos_ in pos_tag):\n",
        "            result.append(token.text)\n",
        "\n",
        "        texto = ' '.join([str(elemento) for elemento in result if not elemento.isdigit()])\n",
        "\n",
        "\n",
        "    #return result # 5\n",
        "    return texto # 5"
      ],
      "execution_count": null,
      "outputs": []
    },
    {
      "cell_type": "code",
      "metadata": {
        "id": "PuhzLrdZSHRX"
      },
      "source": [
        "base.motivacao=base.motivacao.astype(str)\n",
        "base['limpa'] = base['motivacao'].apply(preprocessamento)"
      ],
      "execution_count": null,
      "outputs": []
    },
    {
      "cell_type": "code",
      "metadata": {
        "colab": {
          "base_uri": "https://localhost:8080/",
          "height": 527
        },
        "id": "oL0Vf1PsSy-V",
        "outputId": "77ce08e8-cd2f-4642-bf1b-e3d7a413d1cf"
      },
      "source": [
        "base"
      ],
      "execution_count": null,
      "outputs": [
        {
          "output_type": "execute_result",
          "data": {
            "text/plain": [
              "                                  Turma interesse computador  \\\n",
              "0       Novo Tec - Administração(Tarde)     Noite        Sim   \n",
              "1                 Contabilidade - Noite     Tarde        Sim   \n",
              "2                 Contabilidade - Noite     Tarde        Sim   \n",
              "3   Novo Tec - Recursos Humanos (Manhã)     Noite        Sim   \n",
              "4                 Contabilidade - Noite     Tarde        Sim   \n",
              "..                                  ...       ...        ...   \n",
              "56                    Logistica - Noite     Tarde        não   \n",
              "57                    Logistica - Noite     Tarde        não   \n",
              "58       Novo Tec - Informática (Manhã)     Tarde        Sim   \n",
              "59       Novo Tec - Informática (Manhã)     Noite        Sim   \n",
              "60       Novo Tec - Informática (Manhã)     Noite        Sim   \n",
              "\n",
              "                                            motivacao  \\\n",
              "0   Quero estar mais liga e aprender muito mais  s...   \n",
              "1   conseguir automatizar alguns processos no meu ...   \n",
              "2   Obter um pouco de conhecimento nessa área, a q...   \n",
              "3   Porque o python é uma linguagens de programaçã...   \n",
              "4                 quero aprimorar meus conhecimentos    \n",
              "..                                                ...   \n",
              "56  Ter um curso extracurricular pra melhorar meu ...   \n",
              "57  Ter um curso extracurricular pra melhorar meu ...   \n",
              "58  Busca por conhecimentos que possam agregar na ...   \n",
              "59  Ampliar meus conhecimentos na área de informática   \n",
              "60  Adquirir mais conhecimentos na área. E ter um ...   \n",
              "\n",
              "                                                limpa  \n",
              "0                            liga aprender tecnologia  \n",
              "1            conseguir automatizar processos trabalho  \n",
              "2            conhecimento solicitado mercado trabalho  \n",
              "3   python linguagens programação fácil executar p...  \n",
              "4                             aprimorar conhecimentos  \n",
              "..                                                ...  \n",
              "56           curso extracurricular melhorar currículo  \n",
              "57           curso extracurricular melhorar currículo  \n",
              "58            busca conhecimentos possam agregar vida  \n",
              "59                  ampliar conhecimentos informática  \n",
              "60  adquirir conhecimentos melhor desempenho formação  \n",
              "\n",
              "[61 rows x 5 columns]"
            ],
            "text/html": [
              "\n",
              "  <div id=\"df-4be57c42-2d4f-4418-b451-97db47b8497d\" class=\"colab-df-container\">\n",
              "    <div>\n",
              "<style scoped>\n",
              "    .dataframe tbody tr th:only-of-type {\n",
              "        vertical-align: middle;\n",
              "    }\n",
              "\n",
              "    .dataframe tbody tr th {\n",
              "        vertical-align: top;\n",
              "    }\n",
              "\n",
              "    .dataframe thead th {\n",
              "        text-align: right;\n",
              "    }\n",
              "</style>\n",
              "<table border=\"1\" class=\"dataframe\">\n",
              "  <thead>\n",
              "    <tr style=\"text-align: right;\">\n",
              "      <th></th>\n",
              "      <th>Turma</th>\n",
              "      <th>interesse</th>\n",
              "      <th>computador</th>\n",
              "      <th>motivacao</th>\n",
              "      <th>limpa</th>\n",
              "    </tr>\n",
              "  </thead>\n",
              "  <tbody>\n",
              "    <tr>\n",
              "      <th>0</th>\n",
              "      <td>Novo Tec - Administração(Tarde)</td>\n",
              "      <td>Noite</td>\n",
              "      <td>Sim</td>\n",
              "      <td>Quero estar mais liga e aprender muito mais  s...</td>\n",
              "      <td>liga aprender tecnologia</td>\n",
              "    </tr>\n",
              "    <tr>\n",
              "      <th>1</th>\n",
              "      <td>Contabilidade - Noite</td>\n",
              "      <td>Tarde</td>\n",
              "      <td>Sim</td>\n",
              "      <td>conseguir automatizar alguns processos no meu ...</td>\n",
              "      <td>conseguir automatizar processos trabalho</td>\n",
              "    </tr>\n",
              "    <tr>\n",
              "      <th>2</th>\n",
              "      <td>Contabilidade - Noite</td>\n",
              "      <td>Tarde</td>\n",
              "      <td>Sim</td>\n",
              "      <td>Obter um pouco de conhecimento nessa área, a q...</td>\n",
              "      <td>conhecimento solicitado mercado trabalho</td>\n",
              "    </tr>\n",
              "    <tr>\n",
              "      <th>3</th>\n",
              "      <td>Novo Tec - Recursos Humanos (Manhã)</td>\n",
              "      <td>Noite</td>\n",
              "      <td>Sim</td>\n",
              "      <td>Porque o python é uma linguagens de programaçã...</td>\n",
              "      <td>python linguagens programação fácil executar p...</td>\n",
              "    </tr>\n",
              "    <tr>\n",
              "      <th>4</th>\n",
              "      <td>Contabilidade - Noite</td>\n",
              "      <td>Tarde</td>\n",
              "      <td>Sim</td>\n",
              "      <td>quero aprimorar meus conhecimentos</td>\n",
              "      <td>aprimorar conhecimentos</td>\n",
              "    </tr>\n",
              "    <tr>\n",
              "      <th>...</th>\n",
              "      <td>...</td>\n",
              "      <td>...</td>\n",
              "      <td>...</td>\n",
              "      <td>...</td>\n",
              "      <td>...</td>\n",
              "    </tr>\n",
              "    <tr>\n",
              "      <th>56</th>\n",
              "      <td>Logistica - Noite</td>\n",
              "      <td>Tarde</td>\n",
              "      <td>não</td>\n",
              "      <td>Ter um curso extracurricular pra melhorar meu ...</td>\n",
              "      <td>curso extracurricular melhorar currículo</td>\n",
              "    </tr>\n",
              "    <tr>\n",
              "      <th>57</th>\n",
              "      <td>Logistica - Noite</td>\n",
              "      <td>Tarde</td>\n",
              "      <td>não</td>\n",
              "      <td>Ter um curso extracurricular pra melhorar meu ...</td>\n",
              "      <td>curso extracurricular melhorar currículo</td>\n",
              "    </tr>\n",
              "    <tr>\n",
              "      <th>58</th>\n",
              "      <td>Novo Tec - Informática (Manhã)</td>\n",
              "      <td>Tarde</td>\n",
              "      <td>Sim</td>\n",
              "      <td>Busca por conhecimentos que possam agregar na ...</td>\n",
              "      <td>busca conhecimentos possam agregar vida</td>\n",
              "    </tr>\n",
              "    <tr>\n",
              "      <th>59</th>\n",
              "      <td>Novo Tec - Informática (Manhã)</td>\n",
              "      <td>Noite</td>\n",
              "      <td>Sim</td>\n",
              "      <td>Ampliar meus conhecimentos na área de informática</td>\n",
              "      <td>ampliar conhecimentos informática</td>\n",
              "    </tr>\n",
              "    <tr>\n",
              "      <th>60</th>\n",
              "      <td>Novo Tec - Informática (Manhã)</td>\n",
              "      <td>Noite</td>\n",
              "      <td>Sim</td>\n",
              "      <td>Adquirir mais conhecimentos na área. E ter um ...</td>\n",
              "      <td>adquirir conhecimentos melhor desempenho formação</td>\n",
              "    </tr>\n",
              "  </tbody>\n",
              "</table>\n",
              "<p>61 rows × 5 columns</p>\n",
              "</div>\n",
              "    <div class=\"colab-df-buttons\">\n",
              "\n",
              "  <div class=\"colab-df-container\">\n",
              "    <button class=\"colab-df-convert\" onclick=\"convertToInteractive('df-4be57c42-2d4f-4418-b451-97db47b8497d')\"\n",
              "            title=\"Convert this dataframe to an interactive table.\"\n",
              "            style=\"display:none;\">\n",
              "\n",
              "  <svg xmlns=\"http://www.w3.org/2000/svg\" height=\"24px\" viewBox=\"0 -960 960 960\">\n",
              "    <path d=\"M120-120v-720h720v720H120Zm60-500h600v-160H180v160Zm220 220h160v-160H400v160Zm0 220h160v-160H400v160ZM180-400h160v-160H180v160Zm440 0h160v-160H620v160ZM180-180h160v-160H180v160Zm440 0h160v-160H620v160Z\"/>\n",
              "  </svg>\n",
              "    </button>\n",
              "\n",
              "  <style>\n",
              "    .colab-df-container {\n",
              "      display:flex;\n",
              "      gap: 12px;\n",
              "    }\n",
              "\n",
              "    .colab-df-convert {\n",
              "      background-color: #E8F0FE;\n",
              "      border: none;\n",
              "      border-radius: 50%;\n",
              "      cursor: pointer;\n",
              "      display: none;\n",
              "      fill: #1967D2;\n",
              "      height: 32px;\n",
              "      padding: 0 0 0 0;\n",
              "      width: 32px;\n",
              "    }\n",
              "\n",
              "    .colab-df-convert:hover {\n",
              "      background-color: #E2EBFA;\n",
              "      box-shadow: 0px 1px 2px rgba(60, 64, 67, 0.3), 0px 1px 3px 1px rgba(60, 64, 67, 0.15);\n",
              "      fill: #174EA6;\n",
              "    }\n",
              "\n",
              "    .colab-df-buttons div {\n",
              "      margin-bottom: 4px;\n",
              "    }\n",
              "\n",
              "    [theme=dark] .colab-df-convert {\n",
              "      background-color: #3B4455;\n",
              "      fill: #D2E3FC;\n",
              "    }\n",
              "\n",
              "    [theme=dark] .colab-df-convert:hover {\n",
              "      background-color: #434B5C;\n",
              "      box-shadow: 0px 1px 3px 1px rgba(0, 0, 0, 0.15);\n",
              "      filter: drop-shadow(0px 1px 2px rgba(0, 0, 0, 0.3));\n",
              "      fill: #FFFFFF;\n",
              "    }\n",
              "  </style>\n",
              "\n",
              "    <script>\n",
              "      const buttonEl =\n",
              "        document.querySelector('#df-4be57c42-2d4f-4418-b451-97db47b8497d button.colab-df-convert');\n",
              "      buttonEl.style.display =\n",
              "        google.colab.kernel.accessAllowed ? 'block' : 'none';\n",
              "\n",
              "      async function convertToInteractive(key) {\n",
              "        const element = document.querySelector('#df-4be57c42-2d4f-4418-b451-97db47b8497d');\n",
              "        const dataTable =\n",
              "          await google.colab.kernel.invokeFunction('convertToInteractive',\n",
              "                                                    [key], {});\n",
              "        if (!dataTable) return;\n",
              "\n",
              "        const docLinkHtml = 'Like what you see? Visit the ' +\n",
              "          '<a target=\"_blank\" href=https://colab.research.google.com/notebooks/data_table.ipynb>data table notebook</a>'\n",
              "          + ' to learn more about interactive tables.';\n",
              "        element.innerHTML = '';\n",
              "        dataTable['output_type'] = 'display_data';\n",
              "        await google.colab.output.renderOutput(dataTable, element);\n",
              "        const docLink = document.createElement('div');\n",
              "        docLink.innerHTML = docLinkHtml;\n",
              "        element.appendChild(docLink);\n",
              "      }\n",
              "    </script>\n",
              "  </div>\n",
              "\n",
              "\n",
              "<div id=\"df-62aa1b07-77fa-449d-a788-e4c978e4707d\">\n",
              "  <button class=\"colab-df-quickchart\" onclick=\"quickchart('df-62aa1b07-77fa-449d-a788-e4c978e4707d')\"\n",
              "            title=\"Suggest charts.\"\n",
              "            style=\"display:none;\">\n",
              "\n",
              "<svg xmlns=\"http://www.w3.org/2000/svg\" height=\"24px\"viewBox=\"0 0 24 24\"\n",
              "     width=\"24px\">\n",
              "    <g>\n",
              "        <path d=\"M19 3H5c-1.1 0-2 .9-2 2v14c0 1.1.9 2 2 2h14c1.1 0 2-.9 2-2V5c0-1.1-.9-2-2-2zM9 17H7v-7h2v7zm4 0h-2V7h2v10zm4 0h-2v-4h2v4z\"/>\n",
              "    </g>\n",
              "</svg>\n",
              "  </button>\n",
              "\n",
              "<style>\n",
              "  .colab-df-quickchart {\n",
              "      --bg-color: #E8F0FE;\n",
              "      --fill-color: #1967D2;\n",
              "      --hover-bg-color: #E2EBFA;\n",
              "      --hover-fill-color: #174EA6;\n",
              "      --disabled-fill-color: #AAA;\n",
              "      --disabled-bg-color: #DDD;\n",
              "  }\n",
              "\n",
              "  [theme=dark] .colab-df-quickchart {\n",
              "      --bg-color: #3B4455;\n",
              "      --fill-color: #D2E3FC;\n",
              "      --hover-bg-color: #434B5C;\n",
              "      --hover-fill-color: #FFFFFF;\n",
              "      --disabled-bg-color: #3B4455;\n",
              "      --disabled-fill-color: #666;\n",
              "  }\n",
              "\n",
              "  .colab-df-quickchart {\n",
              "    background-color: var(--bg-color);\n",
              "    border: none;\n",
              "    border-radius: 50%;\n",
              "    cursor: pointer;\n",
              "    display: none;\n",
              "    fill: var(--fill-color);\n",
              "    height: 32px;\n",
              "    padding: 0;\n",
              "    width: 32px;\n",
              "  }\n",
              "\n",
              "  .colab-df-quickchart:hover {\n",
              "    background-color: var(--hover-bg-color);\n",
              "    box-shadow: 0 1px 2px rgba(60, 64, 67, 0.3), 0 1px 3px 1px rgba(60, 64, 67, 0.15);\n",
              "    fill: var(--button-hover-fill-color);\n",
              "  }\n",
              "\n",
              "  .colab-df-quickchart-complete:disabled,\n",
              "  .colab-df-quickchart-complete:disabled:hover {\n",
              "    background-color: var(--disabled-bg-color);\n",
              "    fill: var(--disabled-fill-color);\n",
              "    box-shadow: none;\n",
              "  }\n",
              "\n",
              "  .colab-df-spinner {\n",
              "    border: 2px solid var(--fill-color);\n",
              "    border-color: transparent;\n",
              "    border-bottom-color: var(--fill-color);\n",
              "    animation:\n",
              "      spin 1s steps(1) infinite;\n",
              "  }\n",
              "\n",
              "  @keyframes spin {\n",
              "    0% {\n",
              "      border-color: transparent;\n",
              "      border-bottom-color: var(--fill-color);\n",
              "      border-left-color: var(--fill-color);\n",
              "    }\n",
              "    20% {\n",
              "      border-color: transparent;\n",
              "      border-left-color: var(--fill-color);\n",
              "      border-top-color: var(--fill-color);\n",
              "    }\n",
              "    30% {\n",
              "      border-color: transparent;\n",
              "      border-left-color: var(--fill-color);\n",
              "      border-top-color: var(--fill-color);\n",
              "      border-right-color: var(--fill-color);\n",
              "    }\n",
              "    40% {\n",
              "      border-color: transparent;\n",
              "      border-right-color: var(--fill-color);\n",
              "      border-top-color: var(--fill-color);\n",
              "    }\n",
              "    60% {\n",
              "      border-color: transparent;\n",
              "      border-right-color: var(--fill-color);\n",
              "    }\n",
              "    80% {\n",
              "      border-color: transparent;\n",
              "      border-right-color: var(--fill-color);\n",
              "      border-bottom-color: var(--fill-color);\n",
              "    }\n",
              "    90% {\n",
              "      border-color: transparent;\n",
              "      border-bottom-color: var(--fill-color);\n",
              "    }\n",
              "  }\n",
              "</style>\n",
              "\n",
              "  <script>\n",
              "    async function quickchart(key) {\n",
              "      const quickchartButtonEl =\n",
              "        document.querySelector('#' + key + ' button');\n",
              "      quickchartButtonEl.disabled = true;  // To prevent multiple clicks.\n",
              "      quickchartButtonEl.classList.add('colab-df-spinner');\n",
              "      try {\n",
              "        const charts = await google.colab.kernel.invokeFunction(\n",
              "            'suggestCharts', [key], {});\n",
              "      } catch (error) {\n",
              "        console.error('Error during call to suggestCharts:', error);\n",
              "      }\n",
              "      quickchartButtonEl.classList.remove('colab-df-spinner');\n",
              "      quickchartButtonEl.classList.add('colab-df-quickchart-complete');\n",
              "    }\n",
              "    (() => {\n",
              "      let quickchartButtonEl =\n",
              "        document.querySelector('#df-62aa1b07-77fa-449d-a788-e4c978e4707d button');\n",
              "      quickchartButtonEl.style.display =\n",
              "        google.colab.kernel.accessAllowed ? 'block' : 'none';\n",
              "    })();\n",
              "  </script>\n",
              "</div>\n",
              "    </div>\n",
              "  </div>\n"
            ]
          },
          "metadata": {},
          "execution_count": 31
        }
      ]
    },
    {
      "cell_type": "code",
      "metadata": {
        "id": "t45jCBPgPQ42"
      },
      "source": [
        "motivo = base['limpa'].values\n",
        "juntandotudo = ''\n",
        "for sentimento in motivo:\n",
        "  juntandotudo += sentimento+\" \""
      ],
      "execution_count": null,
      "outputs": []
    },
    {
      "cell_type": "code",
      "source": [
        "teste = '''A série live-action de One Piece estreou no catálogo da Netflix nesta quinta-feira (31), após anos de espera. Baseado no mangá de Eiichiro Oda, que existe desde 1997 e ainda está em publicação, a mais nova aposta do streaming tem no elenco principal Iñaki Godoy (Luffy) e Emily Rudd (Nami). A trama segue Luffy, um jovem com o corpo elástico que sonha em criar sua própria tripulação e partir em uma aventura para se tornar o próximo Rei dos Piratas.\n",
        "Ao todo, a produção tem oito episódios de cerca de uma hora de duração cada, já disponíveis no catálogo da Netflix. Até o momento, a série tem agradado a crítica especializada em sites como Rotten Tomatoes. Pensando nisso, se você é fã dos clássicos anime e mangá, confira, a seguir, mais detalhes de One Piece - A Série, como sinopse, elenco e repercussão.'''"
      ],
      "metadata": {
        "id": "RlsNq08vn3a9"
      },
      "execution_count": null,
      "outputs": []
    },
    {
      "cell_type": "code",
      "source": [
        "teste = preprocessamento (teste)"
      ],
      "metadata": {
        "id": "vEO2HpSXoSat"
      },
      "execution_count": null,
      "outputs": []
    },
    {
      "cell_type": "code",
      "metadata": {
        "colab": {
          "base_uri": "https://localhost:8080/",
          "height": 139
        },
        "id": "pgFSuuVcS8s3",
        "outputId": "4c753780-6fc9-4e82-a4f5-5eac15cb4847"
      },
      "source": [
        "juntandotudo"
      ],
      "execution_count": null,
      "outputs": [
        {
          "output_type": "execute_result",
          "data": {
            "text/plain": [
              "'liga aprender tecnologia conseguir automatizar processos trabalho obter conhecimento solicitado mercado trabalho python linguagens programação fácil executar projetos tamanhos sabendo python aprimorar conhecimentos aprimorar conhecimentos venho interessando tecnologia conhecimento adquirir conhecimentos agregar conhecimentos currículo achei interessante curso melhorar conhecimento python interessei gosto programação estudei python conhecimento indicação documentário coded bias desenvolvi interesse expandir conhecimentos futuro melhor incrementar currículo interesse interesse explorar áreas informática estudei python motivos conhecer mexe funciona adquirir conhecimento busco melhor capacitação ingressar mercado trabalho interesse tema curso gosto aprender coisas acredito oportunidade aparece agarrada tema curso desperta interesse experiência area interesse aprender tecnologias atuais ampliar conhecimento amo áreae decidindo aprender fundamental aprender coisas tornar profissional qualificado curiosidade desenvolvimento python gosto acho interessante interessei aprofundar conseguir certificado obter conhecimento aprender gostaria aprender python implementar currículo aprender qualificações informática aprofundamento conhecimento estudo periodo escolar mundo tecnologia melhor ampliar conhecimento melhor capacitação conseguir emprego crescimento profissional interesse áreaprincipalmente inteligência artificial conhecimento linguagem python diferencial mercado trabalho causa utilização aprender informática gostaria aprender inteligência artificial grade curricular mercado trabalho precisando profissionais qualificados adquirir conhecimento adquirir conhecimentos evoluir informática creio acrescentar vida conhecimento torno assunto presente dias atuais contar ramo inteligência artificial desperta interesse aprender coisas programação dia vejo anúncios youtube dizendo python linguagem programação empresas pedem motivação realização curso ouvi falarem phyton acredito interessa aprender conhecimento pessoal projetos futuros desenvolvedor disposta aprender goste planeje continuar acho interessante aprender aprender ganhar experiência mercado trabalho adquirir habilidades conhecimentos ampliar conhecimento area informatica inteligencia artifical aprender coisas adquirir conhecimento achei interessante proposta pretendo faculdade trabalhar tecnologia gostei criar coisas planejar trazer imagens realidade acho ramo há espaço crescimento evolução aprender tecnologia aprendizado ocupação útil curso extracurricular melhorar currículo curso extracurricular melhorar currículo busca conhecimentos possam agregar vida ampliar conhecimentos informática adquirir conhecimentos melhor desempenho formação '"
            ],
            "application/vnd.google.colaboratory.intrinsic+json": {
              "type": "string"
            }
          },
          "metadata": {},
          "execution_count": 24
        }
      ]
    },
    {
      "cell_type": "code",
      "metadata": {
        "id": "Qae1vaHvTc_R",
        "colab": {
          "base_uri": "https://localhost:8080/",
          "height": 620
        },
        "outputId": "b81b8d7d-a5dd-4995-ebcf-fbe559aeace9"
      },
      "source": [
        "from wordcloud import WordCloud\n",
        "import matplotlib.pyplot as plt\n",
        "plt.figure(figsize=(20,20))\n",
        "plt.axis('off')\n",
        "plt.imshow(WordCloud().generate(teste))"
      ],
      "execution_count": null,
      "outputs": [
        {
          "output_type": "execute_result",
          "data": {
            "text/plain": [
              "<matplotlib.image.AxesImage at 0x7eb4a2c9f8b0>"
            ]
          },
          "metadata": {},
          "execution_count": 41
        },
        {
          "output_type": "display_data",
          "data": {
            "text/plain": [
              "<Figure size 2000x2000 with 1 Axes>"
            ],
            "image/png": "[encoded data removed]"
          },
          "metadata": {}
        }
      ]
    },
    {
      "cell_type": "markdown",
      "metadata": {
        "id": "QWp8VpYnQ4Tn"
      },
      "source": []
    }
  ]
}